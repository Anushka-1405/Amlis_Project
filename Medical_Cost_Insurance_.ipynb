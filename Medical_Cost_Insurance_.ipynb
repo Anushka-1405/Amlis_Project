import numpy as np
import pandas as pd
import pickle
from flask import Flask, render_template, request

app = Flask(__name__)

# Load the trained model
with open('../rf_tuned.pkl', 'rb') as file:
    rf_tuned_loaded = pickle.load(file)

@app.route('/')
def home():
    return render_template('index.html')

@app.route('/predict', methods=['POST'])
def predict():
    age = int(request.form['age'])
    sex = int(request.form['sex'])  # 0 for male, 1 for female
    bmi = float(request.form['bmi'])
    smoker = int(request.form['smoker'])  # 0 for no, 1 for yes
    children = int(request.form['children'])
    region = int(request.form['region'])  # 0-3 for regions

    # Prepare the input for prediction
    input_data = np.array([[age, sex, bmi, smoker, children, region]])
    
    # Make prediction
    prediction = rf_tuned_loaded.predict(input_data)[0]

    return render_template('index.html', prediction=prediction)

if __name__ == '__main__':
    app.run(debug=True)